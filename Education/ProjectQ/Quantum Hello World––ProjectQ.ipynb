{
 "cells": [
  {
   "cell_type": "markdown",
   "metadata": {
    "deletable": true,
    "editable": true
   },
   "source": [
    "# \"Hello World\": ProjectQ Edition"
   ]
  },
  {
   "cell_type": "markdown",
   "metadata": {
    "deletable": true,
    "editable": true
   },
   "source": [
    "## ProjectQ Info"
   ]
  },
  {
   "cell_type": "markdown",
   "metadata": {
    "deletable": true,
    "editable": true
   },
   "source": [
    "_ProjectQ_ is an open-source software framework for quantum computing started at ETH Zurich. One can write programs in a \"quantum circuit\" style syntax, much like the instruction sets QASM and Quil underlying IBM Q's QISKit and Rigetti Forest's pyQuil. Users' programs can be compiled onto a variety of backends, like a local simulator, ProjectQ's quantum emulator, or an actual IBM QPU. For more info on ProjectQ, check out [their official website](https://projectq.ch/) and head to their [Code & Docs](https://projectq.ch/code-and-docs/) page for further links to their documentation, installation guide, and other tutorials."
   ]
  },
  {
   "cell_type": "markdown",
   "metadata": {
    "deletable": true,
    "editable": true
   },
   "source": [
    "## Quantum Computing––A Fundamentally Different Computing Paradigm"
   ]
  },
  {
   "cell_type": "markdown",
   "metadata": {
    "deletable": true,
    "editable": true
   },
   "source": [
    "There are a few phenomena in quantum physics that either play a less prominent role in classical physics, or simply have no classical analogue. Quantum computing aims to exploit these phenomena to process information differently. Under the right circumstances, this new form of information processing can be well-suited to tackle some hard problems that are currently computationally unfeasible."
   ]
  },
  {
   "cell_type": "markdown",
   "metadata": {
    "deletable": true,
    "editable": true
   },
   "source": [
    "### Quantum States––Superposition"
   ]
  },
  {
   "cell_type": "markdown",
   "metadata": {
    "deletable": true,
    "editable": true
   },
   "source": [
    "The fundamental units of quantum computation are _qubits_, quantum bits. One often hears about a qubit being in two states simultaneously, a phenomenon we call __superposition__: \"A bit can be a $0$ _or_ a $1$, but a qubit can be __both__ at the same time!\"\n",
    "\n",
    "This description is a _very_ rough analogy, and fairly imprecise. In some sense it tries to capture an aspect of what superposition refers to: the principle that the addition of two quantum states yields another, equally valid quantum state (or for those with some background in linear algebra: superposition is a complex linear addition of two basis states). But it fails to capture another important aspect of superposition: when we actually \"measure\" our qubit, that is, read out its value at the end of some series of operations, we no longer have this \"$0$ and $1$ at the same time\"-ness property; the superposition collapses to either a $0$ _or_ a $1$. Which it collapses to depends probabilistically on the specific mathematical description of the superposition state of the qubit (for a great article on the _meaning_ behind a quantum state, check out [this piece](http://cognitivemedium.com/qm-interpretation) by Michael Nielsen).\n",
    "\n",
    "To make this more concrete, lets take a look at how the state of a qubit can be represented using [_Dirac_ notation](https://en.wikipedia.org/wiki/Bra%E2%80%93ket_notation), a useful short-hand notation one can use to do linear algebra made by physicist Paul Dirac to succinctly describe quantum states. We can represent the state of any qubit with the following generalized form:\n",
    "\n",
    "$$ \\alpha|0\\rangle + \\beta|1\\rangle $$\n",
    "\n",
    "$\\alpha$ and $\\beta$ above are what we call _probability amplitudes_. When a superposition state is measured, the state will collapse to either a $|0\\rangle$ or a $|1\\rangle$; $\\alpha$ and $\\beta$ are complex values associated with the probaility of observing a collapse to either $0$ or $1$ (respectively).\n",
    "\n",
    "In fact, there is a direct relationship between these amplitudes and the probability of observing either state:\n",
    "\n",
    "$$ \\Pr(0), \\Pr(1) = |\\alpha|^2, |\\beta|^2 $$\n",
    "\n",
    "Because probabilities must sum to $1$, this also means:\n",
    "\n",
    "$$ |\\alpha|^2 + |\\beta|^2 = 1 $$\n",
    "\n",
    "\n",
    "For example, suppose we had a state in what's called an _equal superposition_:\n",
    "\n",
    "$$\\frac{1}{\\sqrt{2}}|0\\rangle + \\frac{1}{\\sqrt{2}}|1\\rangle$$\n",
    "\n",
    "\"Equal\" meaning that $\\alpha$ and $\\beta$ are both equal to each other:\n",
    "\n",
    "$$ \\alpha, \\beta = \\frac{1}{\\sqrt{2}}, \\frac{1}{\\sqrt{2}}$$\n",
    "\n",
    "and thus:\n",
    "\n",
    "$$ \\Pr(0), \\Pr(1) = |\\alpha|^2, |\\beta|^2 = \\frac{1}{2}, \\frac{1}{2}  $$\n",
    "\n",
    "There is a 50/50 chance of measuring the initial superposition state to be either a $0$ or a $1$."
   ]
  },
  {
   "cell_type": "markdown",
   "metadata": {
    "deletable": true,
    "editable": true
   },
   "source": [
    "### Quantum States––Interference"
   ]
  },
  {
   "cell_type": "markdown",
   "metadata": {
    "deletable": true,
    "editable": true
   },
   "source": [
    "Dealing with probabilty amplitudes instead of probabilities reveals an interesting phenomenon: _interference_. Notice that the __absolute value squared__ of $\\alpha$ and $\\beta$ must sum to 1, rather than the sum of $\\alpha$ and $\\beta$ themselves. If we return to the example I mentioned above, where:\n",
    "\n",
    "$$ \\Pr(0), \\Pr(1) = |\\alpha|^2, |\\beta|^2 = \\frac{1}{2}, \\frac{1}{2}  $$\n",
    "\n",
    "we notice something interesting. If $|\\alpha|^2, |\\beta|^2 = \\frac{1}{2}, \\frac{1}{2}$, what does this imply about what values $\\alpha$ and $\\beta$ must be? They needn't each be $\\frac{1}{\\sqrt{2}}$; in fact, they could each be $-\\frac{1}{\\sqrt{2}}$, or even $i\\frac{1}{\\sqrt{2}}$ or $-i\\frac{1}{\\sqrt{2}}$.\n",
    "\n",
    "That's right, whereas probabilities must be positive values that sum to 1, probability amplitudes can be _positive_, _negative_, or even _imaginary_ values whose absolute value squared must sum to 1! A major physical consequence of this fact is that if some state has a positive probability amplitude associated with it, but another state with the same vector value has a negative probability amplitude, these states can actually cancel each other out, meaning we'll never observe that outcome! They _interfere destructively_ with one another:\n",
    "\n",
    "$$\\frac{1}{\\sqrt{2}}|0\\rangle + \\frac{-1}{\\sqrt{2}}|0\\rangle = 0$$\n",
    "\n",
    "Converseley, some states will _interfere constructively_ with each other, increasing the chance we observe that state's value upon measurement:\n",
    "\n",
    "$$\\frac{1}{\\sqrt{2}}|0\\rangle + \\frac{i}{\\sqrt{2}}|0\\rangle = \\frac{1 + i}{\\sqrt{2}}|0\\rangle = |0\\rangle$$\n",
    "\n",
    "because $|\\frac{1 + i}{\\sqrt{2}}|^2 = 1$.\n"
   ]
  },
  {
   "cell_type": "markdown",
   "metadata": {
    "deletable": true,
    "editable": true
   },
   "source": [
    "### Quantum States––Entanglement"
   ]
  },
  {
   "cell_type": "markdown",
   "metadata": {
    "deletable": true,
    "editable": true
   },
   "source": [
    "The other major phenomenon that is entirely unique to quantum physics and has no classical analogue is _entanglement_. Entanglement describes correlations between individually random systems. As an example, suppose we have the multi-qubit state:\n",
    "\n",
    "$$\\frac{1}{\\sqrt{2}}|00\\rangle + \\frac{1}{\\sqrt{2}}|11\\rangle$$\n",
    "\n",
    "where the leftmost $0$ or $1$ in each $|ket\\rangle$ refers to one qubit, and the rightmost digit refers to another qubit. What happens if we perform a measurement on either qubit? The state above will collapse to $|00\\rangle$ 50% of the time, and $|11\\rangle$ 50% of the time. The results of each individual qubit are _correlated_ with each other: each time I measure the first qubit and observe a $0$, it is necessarily true that the second qubit is also a $0$. And each time I measure the first qubit and observe a $1$, it is necessarily true that the second qubit is also a $1$. I could have measured either qubit first, and the outcome is random, but the result of measuring one qubit tells us information about another, separate qubit. \n",
    "\n",
    "These qubits are entangled: this is what Einstein referred to as \"spooky action at a distance\", and is part of what gives quantum computing a fundamentally different paradigm for processing information."
   ]
  },
  {
   "cell_type": "markdown",
   "metadata": {
    "deletable": true,
    "editable": true
   },
   "source": [
    "## Superposition and Entanglement: A Demonstration"
   ]
  },
  {
   "cell_type": "markdown",
   "metadata": {
    "deletable": true,
    "editable": true
   },
   "source": [
    "This will be a fairly straightforward introduction to ProjectQ's syntax, and quantum programming more generally. Other noteooks will explore more interesting circuits, but this notebook will only do the following: import necessary features from the ProjectQ module, allocate qubits, operate on a couple of qubits with two different gates, and effectively demonstrate _superposition_ and _entanglement_, two hallmark phenomena of quantum physics.\n",
    "\n",
    "First, I'll go step by step through creating a program in ProjectQ, then I'll throw the whole circuit together in one cell."
   ]
  },
  {
   "cell_type": "markdown",
   "metadata": {},
   "source": [
    "### Bell States"
   ]
  },
  {
   "cell_type": "markdown",
   "metadata": {},
   "source": [
    "The simplest demonstration of both superposition and entanglement is creating a two-qubit state known as a _Bell state_. We actually have just seen what one of the four Bell states looks like:\n",
    "\n",
    "$$\\frac{1}{\\sqrt{2}}|00\\rangle + \\frac{1}{\\sqrt{2}}|11\\rangle$$\n",
    "\n",
    "Making a Bell state like the one above requires a couple of steps:\n",
    "\n",
    " - First, we create (allocate) two qubits\n",
    " - Then, we put the first qubit into _superposition_, and leave the second qubit alone\n",
    " - Finally, we _entangle_ the two qubits, by performing what is called a _Controlled-NOT_ (C-NOT) gate\n",
    " \n",
    "Mathematically, the steps above look like:\n",
    "\n",
    " - Each qubit initialized as $|0\\rangle$, so the initial two-qubit state is: $|00\\rangle$\n",
    " - We put the first qubit (leftmost qubit in $|ket\\rangle$) into superposition by applying a _Hadamard_ ($H$) gate to it, and leave the second qubit alone. We have: \n",
    " \n",
    "$$H|00\\rangle ===> (\\frac{1}{\\sqrt{2}}|0\\rangle + \\frac{1}{\\sqrt{2}}|1\\rangle)|0\\rangle = \\frac{1}{\\sqrt{2}}|00\\rangle + \\frac{1}{\\sqrt{2}}|10\\rangle$$\n",
    "\n",
    " - Entangle the two qubits with a C-NOT gate. A C-NOT gate flips a target qubit (from $0$ to $1$ and from $1$ to $0$) if the control qubit is a $1$. In our case, the first qubit (leftmost, again) is the control qubit, and the second qubit (rightmost) is the target. Therefore:\n",
    " \n",
    "$$ \\frac{1}{\\sqrt{2}}|00\\rangle + \\frac{1}{\\sqrt{2}}|10\\rangle ===> \\frac{1}{\\sqrt{2}}|00\\rangle + \\frac{1}{\\sqrt{2}}|11\\rangle$$"
   ]
  },
  {
   "cell_type": "markdown",
   "metadata": {},
   "source": [
    "### Bell State in ProjectQ"
   ]
  },
  {
   "cell_type": "markdown",
   "metadata": {},
   "source": [
    "Alright, let's make a Bell state!\n",
    "\n",
    "First, we need to make the necessary imports. This includes a compiler engine object called \"MainEngine\", and various operations we need to make the Bell state, and to then read it out, i.e. \"measure\" it."
   ]
  },
  {
   "cell_type": "code",
   "execution_count": 1,
   "metadata": {
    "collapsed": true
   },
   "outputs": [],
   "source": [
    "from projectq import MainEngine\n",
    "from projectq.ops import CX, H, Measure, All"
   ]
  },
  {
   "cell_type": "markdown",
   "metadata": {},
   "source": [
    "Now, let's create an instance of the engine object and allocate a quantum register with 2 qubits."
   ]
  },
  {
   "cell_type": "code",
   "execution_count": 2,
   "metadata": {
    "collapsed": false
   },
   "outputs": [
    {
     "name": "stdout",
     "output_type": "stream",
     "text": [
      "(Note: This is the (slow) Python simulator.)\n"
     ]
    }
   ],
   "source": [
    "eng = MainEngine()\n",
    "q = eng.allocate_qureg(2)"
   ]
  },
  {
   "cell_type": "markdown",
   "metadata": {},
   "source": [
    "If we don't provide an argument for MainEngine(), we default to the local Python simulator.\n",
    "\n",
    "Now, the meat of the circuit. Let's put the first qubit into superposition using a Hadamard gate, and then entangle the two qubits using a Controlled-NOT gate with the first qubit as the control, and the second qubit as the target."
   ]
  },
  {
   "cell_type": "code",
   "execution_count": 3,
   "metadata": {
    "collapsed": true
   },
   "outputs": [],
   "source": [
    "H | q[0]\n",
    "CX | (q[0], q[1])"
   ]
  },
  {
   "cell_type": "markdown",
   "metadata": {},
   "source": [
    "ProjectQ has a very intuitve syntax, where operations and the qubits they operate on are separated by `|`\n",
    "\n",
    "It's all fine and well that we've created our Bell state, but until we measure the qubits, we have no way of reading out the output. Of course, when we measure the qubits, we will never see the superposition state, only $00$ or $11$."
   ]
  },
  {
   "cell_type": "code",
   "execution_count": 4,
   "metadata": {
    "collapsed": true
   },
   "outputs": [],
   "source": [
    "All(Measure) | q\n",
    "# equivalently:\n",
    "# Measure | q[0]\n",
    "# Measure | q[1]"
   ]
  },
  {
   "cell_type": "markdown",
   "metadata": {},
   "source": [
    "In ProjectQ, to actually run the circuit on the engine (be it a simulator or an actual QPU), we must \"flush\" the engine. Then, we can print out the result, and we should expect to see $00$ or $11$."
   ]
  },
  {
   "cell_type": "code",
   "execution_count": 5,
   "metadata": {
    "collapsed": false
   },
   "outputs": [
    {
     "name": "stdout",
     "output_type": "stream",
     "text": [
      "[1, 1]\n"
     ]
    }
   ],
   "source": [
    "eng.flush()\n",
    "print([int(qubit) for qubit in q])"
   ]
  },
  {
   "cell_type": "markdown",
   "metadata": {},
   "source": [
    "\n",
    "__Since this is a straightforward circuit, it might be better to see all of the code in one cell:__"
   ]
  },
  {
   "cell_type": "code",
   "execution_count": 6,
   "metadata": {
    "collapsed": false,
    "deletable": true,
    "editable": true
   },
   "outputs": [
    {
     "name": "stdout",
     "output_type": "stream",
     "text": [
      "(Note: This is the (slow) Python simulator.)\n",
      "[0, 0]\n"
     ]
    }
   ],
   "source": [
    "# –––––––––––––––––––––––––––––––––––––––––––––––––––––––––––––––––––––––\n",
    "# imports\n",
    "# –––––––––––––––––––––––––––––––––––––––––––––––––––––––––––––––––––––––\n",
    "from projectq import MainEngine\n",
    "from projectq.ops import CX, H, Measure, All\n",
    "\n",
    "\n",
    "# –––––––––––––––––––––––––––––––––––––––––––––––––––––––––––––––––––––––\n",
    "# create an instance of the engine object and allocate a quantum register\n",
    "# –––––––––––––––––––––––––––––––––––––––––––––––––––––––––––––––––––––––\n",
    "eng = MainEngine()\n",
    "q = eng.allocate_qureg(2)\n",
    "\n",
    "\n",
    "# –––––––––––––––––––––––––––––––––––––––––––––––––––––––––––––––––––––––\n",
    "# perform a Hadamard gate on the first qubit, then use the first qubit as\n",
    "# a control to perform a controlled-NOT gate on the second qubit\n",
    "# –––––––––––––––––––––––––––––––––––––––––––––––––––––––––––––––––––––––\n",
    "H | q[0]\n",
    "CX | (q[0], q[1])\n",
    "\n",
    "\n",
    "# –––––––––––––––––––––––––––––––––––––––––––––––––––––––––––––––––––––––\n",
    "# measure all qubits\n",
    "# –––––––––––––––––––––––––––––––––––––––––––––––––––––––––––––––––––––––\n",
    "All(Measure) | q\n",
    "\n",
    "\n",
    "# –––––––––––––––––––––––––––––––––––––––––––––––––––––––––––––––––––––––\n",
    "# run this circuit and print the result\n",
    "# –––––––––––––––––––––––––––––––––––––––––––––––––––––––––––––––––––––––\n",
    "eng.flush()\n",
    "print([int(qubit) for qubit in q])"
   ]
  },
  {
   "cell_type": "markdown",
   "metadata": {
    "collapsed": true,
    "deletable": true,
    "editable": true
   },
   "source": [
    "Remember, we only ever see $00$ or $11$, _never_ both. So how can we be sure we actually made a Bell state? Run the code many many times, and expect to see that half the time we get $00$ and the other half $11$!"
   ]
  },
  {
   "cell_type": "markdown",
   "metadata": {},
   "source": [
    "## More to come...\n",
    "\n",
    "I will shortly be adding a method to visualize the operations in a few ways: a circuit drawer to draw out the circuit, and plot the results as a histogram to get some useful statistics on the outcome."
   ]
  }
 ],
 "metadata": {
  "kernelspec": {
   "display_name": "Python 3",
   "language": "python",
   "name": "python3"
  },
  "language_info": {
   "codemirror_mode": {
    "name": "ipython",
    "version": 3
   },
   "file_extension": ".py",
   "mimetype": "text/x-python",
   "name": "python",
   "nbconvert_exporter": "python",
   "pygments_lexer": "ipython3",
   "version": "3.6.1"
  }
 },
 "nbformat": 4,
 "nbformat_minor": 2
}
