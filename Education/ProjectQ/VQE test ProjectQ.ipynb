{
 "cells": [
  {
   "cell_type": "markdown",
   "metadata": {},
   "source": [
    "# Just a quick VQE in ProjectQ test"
   ]
  },
  {
   "cell_type": "markdown",
   "metadata": {},
   "source": [
    "Making my own implementation in ProjectQ of some code for VQE previously done in pyQuil on [this awesome site](dkopczyk.quantee.co.uk/vqe)"
   ]
  },
  {
   "cell_type": "markdown",
   "metadata": {},
   "source": [
    "__Make necessary imports__"
   ]
  },
  {
   "cell_type": "code",
   "execution_count": 21,
   "metadata": {
    "collapsed": false
   },
   "outputs": [],
   "source": [
    "from projectq import MainEngine\n",
    "from projectq.ops import Ry, Measure\n",
    "import numpy as np\n",
    "import matplotlib.pyplot as plt"
   ]
  },
  {
   "cell_type": "markdown",
   "metadata": {},
   "source": [
    "__Define an Ansatz function (we'll use the RY operator)__"
   ]
  },
  {
   "cell_type": "code",
   "execution_count": 22,
   "metadata": {
    "collapsed": true
   },
   "outputs": [],
   "source": [
    "def ansatz(theta, qureg):\n",
    "    return Ry(theta) | qureg[0]"
   ]
  },
  {
   "cell_type": "markdown",
   "metadata": {},
   "source": [
    "__Define expectation value__"
   ]
  },
  {
   "cell_type": "code",
   "execution_count": 25,
   "metadata": {
    "collapsed": false
   },
   "outputs": [],
   "source": [
    "def expectation(theta):\n",
    "    counter = []\n",
    "    \n",
    "    # Number of runs for measurement\n",
    "    shots = 10000\n",
    "    \n",
    "    for i in range(shots):\n",
    "        # Prepare state by instantiating requisite objects and applying ansatz operator\n",
    "        q = eng.allocate_qureg(1)\n",
    "        ansatz(theta, q)\n",
    "    \n",
    "        # measure\n",
    "        Measure | q[0]\n",
    "    \n",
    "        # flush engine\n",
    "        eng.flush()\n",
    "    \n",
    "        # add each trial to counter:\n",
    "        counter.append(int(q[0]))\n",
    "    \n",
    "    \n",
    "    # get frequency of measurement results\n",
    "    # note: counts is a dict with '0' or '1' as keys. However, if no 0's or 1's are measured\n",
    "    # it won't appear as a key. We need to supply the second argument to .get() as a default in\n",
    "    # case that key does not appear\n",
    "    freq_0 = counter.count(0)/shots\n",
    "    freq_1 = counter.count(1)/shots\n",
    "    \n",
    "    return freq_0 - freq_1"
   ]
  },
  {
   "cell_type": "markdown",
   "metadata": {},
   "source": [
    "__Create engine object, run expectation on a test theta__"
   ]
  },
  {
   "cell_type": "code",
   "execution_count": 26,
   "metadata": {
    "collapsed": false
   },
   "outputs": [
    {
     "name": "stdout",
     "output_type": "stream",
     "text": [
      "(Note: This is the (slow) Python simulator.)\n",
      "-1.0\n"
     ]
    }
   ],
   "source": [
    "eng = MainEngine()\n",
    "\n",
    "test = expectation(3.14)\n",
    "print(test)"
   ]
  },
  {
   "cell_type": "markdown",
   "metadata": {},
   "source": [
    "__Lets plot a range of values to vizualize where the lowest expectation value occurs__"
   ]
  },
  {
   "cell_type": "code",
   "execution_count": null,
   "metadata": {
    "collapsed": false
   },
   "outputs": [],
   "source": [
    "theta_range = np.linspace(0, 2*np.pi, 25)\n",
    "data = [expectation(theta) for theta in theta_range]\n",
    "\n",
    "plt.xlabel('Theta values')\n",
    "plt.ylabel('Expectation values')\n",
    "plt.plot(theta_range, data)"
   ]
  },
  {
   "cell_type": "code",
   "execution_count": null,
   "metadata": {
    "collapsed": true
   },
   "outputs": [],
   "source": []
  }
 ],
 "metadata": {
  "kernelspec": {
   "display_name": "Python 3",
   "language": "python",
   "name": "python3"
  },
  "language_info": {
   "codemirror_mode": {
    "name": "ipython",
    "version": 3
   },
   "file_extension": ".py",
   "mimetype": "text/x-python",
   "name": "python",
   "nbconvert_exporter": "python",
   "pygments_lexer": "ipython3",
   "version": "3.6.1"
  }
 },
 "nbformat": 4,
 "nbformat_minor": 2
}
