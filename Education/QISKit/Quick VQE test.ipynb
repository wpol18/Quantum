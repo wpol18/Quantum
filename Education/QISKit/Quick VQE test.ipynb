{
 "cells": [
  {
   "cell_type": "markdown",
   "metadata": {},
   "source": [
    "# Just a quick VQE in Qiskit test"
   ]
  },
  {
   "cell_type": "markdown",
   "metadata": {},
   "source": [
    "Making my own implementation in Qiskit of some code for VQE previously done in pyQuil on [this awesome site](dkopczyk.quantee.co.uk/vqe)"
   ]
  },
  {
   "cell_type": "markdown",
   "metadata": {},
   "source": [
    "__Make necessary imports__"
   ]
  },
  {
   "cell_type": "code",
   "execution_count": 1,
   "metadata": {
    "collapsed": false
   },
   "outputs": [
    {
     "name": "stderr",
     "output_type": "stream",
     "text": [
      "/Library/Frameworks/Python.framework/Versions/3.6/lib/python3.6/site-packages/marshmallow/schema.py:364: ChangedInMarshmallow3Warning: strict=False is not recommended. In marshmallow 3.0, schemas will always be strict. See https://marshmallow.readthedocs.io/en/latest/upgrading.html#schemas-are-always-strict\n",
      "  ChangedInMarshmallow3Warning\n"
     ]
    }
   ],
   "source": [
    "from qiskit import Aer, execute, QuantumRegister, QuantumCircuit, ClassicalRegister\n",
    "import numpy as np\n",
    "import matplotlib.pyplot as plt"
   ]
  },
  {
   "cell_type": "markdown",
   "metadata": {},
   "source": [
    "__Define an Ansatz function (we'll use the RY operator)__"
   ]
  },
  {
   "cell_type": "code",
   "execution_count": 6,
   "metadata": {
    "collapsed": true
   },
   "outputs": [],
   "source": [
    "def ansatz(circuit, qureg, theta):\n",
    "    return circuit.ry(theta, qureg[0])"
   ]
  },
  {
   "cell_type": "markdown",
   "metadata": {},
   "source": [
    "__Define expectation value function__"
   ]
  },
  {
   "cell_type": "code",
   "execution_count": 7,
   "metadata": {
    "collapsed": true
   },
   "outputs": [],
   "source": [
    "def expectation(theta):\n",
    "    # Number of runs for measurement\n",
    "    shots = 10000\n",
    "    \n",
    "    # Prepare state by instantiating requisite objects and applying ansatz operator\n",
    "    q = QuantumRegister(1, 'q')\n",
    "    c = ClassicalRegister(1, 'c')\n",
    "    qc = QuantumCircuit(q, c)\n",
    "    ansatz(qc, q, theta)\n",
    "    \n",
    "    # measure\n",
    "    qc.measure(q, c)\n",
    "    \n",
    "    # create job object and run job, get results, get counts\n",
    "    job = execute(qc, backend, shots=shots)\n",
    "    result = job.result()\n",
    "    counts = result.get_counts()\n",
    "    \n",
    "    # get frequency of measurement results\n",
    "    # note: counts is a dict with '0' or '1' as keys. However, if no 0's or 1's are measured\n",
    "    # it won't appear as a key. We need to supply the second argument to .get() as a default in\n",
    "    # case that key does not appear\n",
    "    freq_0 = counts.get('0', 0)/shots\n",
    "    freq_1 = counts.get('1', 0)/shots\n",
    "    \n",
    "    return freq_0 - freq_1"
   ]
  },
  {
   "cell_type": "markdown",
   "metadata": {},
   "source": [
    "__ Create backend instance, run expectation on a test theta__"
   ]
  },
  {
   "cell_type": "code",
   "execution_count": 9,
   "metadata": {
    "collapsed": false
   },
   "outputs": [
    {
     "name": "stdout",
     "output_type": "stream",
     "text": [
      "1.0\n"
     ]
    }
   ],
   "source": [
    "# retrieve simulator from Aer provider\n",
    "backend = Aer.get_backend('qasm_simulator')\n",
    "\n",
    "# create a test instance of expectation:\n",
    "test = expectation(0.0)\n",
    "print(test)"
   ]
  },
  {
   "cell_type": "markdown",
   "metadata": {},
   "source": [
    "__ Lets plot a range of theta values to visualize where the lowest expectation value occurs__"
   ]
  },
  {
   "cell_type": "code",
   "execution_count": 11,
   "metadata": {
    "collapsed": false
   },
   "outputs": [
    {
     "data": {
      "text/plain": [
       "[<matplotlib.lines.Line2D at 0x111264550>]"
      ]
     },
     "execution_count": 11,
     "metadata": {},
     "output_type": "execute_result"
    },
    {
     "data": {
      "image/png": "[encoded data removed]",
      "text/plain": [
       "<Figure size 432x288 with 1 Axes>"
      ]
     },
     "metadata": {
      "needs_background": "light"
     },
     "output_type": "display_data"
    }
   ],
   "source": [
    "theta_range = np.linspace(0, 2*np.pi, 25)\n",
    "data = [expectation(theta) for theta in theta_range]\n",
    "\n",
    "plt.xlabel('Theta values')\n",
    "plt.ylabel('Expectation values')\n",
    "plt.plot(theta_range, data)"
   ]
  },
  {
   "cell_type": "code",
   "execution_count": null,
   "metadata": {
    "collapsed": true
   },
   "outputs": [],
   "source": []
  }
 ],
 "metadata": {
  "kernelspec": {
   "display_name": "Python 3",
   "language": "python",
   "name": "python3"
  },
  "language_info": {
   "codemirror_mode": {
    "name": "ipython",
    "version": 3
   },
   "file_extension": ".py",
   "mimetype": "text/x-python",
   "name": "python",
   "nbconvert_exporter": "python",
   "pygments_lexer": "ipython3",
   "version": "3.6.1"
  }
 },
 "nbformat": 4,
 "nbformat_minor": 2
}
