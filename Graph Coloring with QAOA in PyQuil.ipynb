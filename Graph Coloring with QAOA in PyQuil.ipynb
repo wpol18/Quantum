{
 "cells": [
  {
   "cell_type": "markdown",
   "metadata": {
    "deletable": true,
    "editable": true
   },
   "source": [
    "# Graph Coloring with QAOA using PyQuil and Grove"
   ]
  },
  {
   "cell_type": "markdown",
   "metadata": {
    "deletable": true,
    "editable": true
   },
   "source": [
    "We are going to color a graph using the near-term algorithm QAOA. The canonical example of QAOA was to solve a MaxCut problem, but graph coloring can be seen as a generalization of MaxCut, which is really graph coloring with only k = 2 colors"
   ]
  },
  {
   "cell_type": "markdown",
   "metadata": {
    "deletable": true,
    "editable": true
   },
   "source": [
    "## Sample problem: Graph with n = 4 nodes and e = 5 edges, k = 3 colors"
   ]
  },
  {
   "cell_type": "markdown",
   "metadata": {
    "deletable": true,
    "editable": true
   },
   "source": [
    "First let's make some imports:"
   ]
  },
  {
   "cell_type": "code",
   "execution_count": 1,
   "metadata": {
    "collapsed": true,
    "deletable": true,
    "editable": true
   },
   "outputs": [],
   "source": [
    "# pyquil and grove imports\n",
    "from grove.pyqaoa.qaoa import QAOA\n",
    "from pyquil.api import QVMConnection, get_qc, WavefunctionSimulator\n",
    "from pyquil.paulis import PauliTerm, PauliSum\n",
    "from pyquil import Program\n",
    "from pyquil.gates import CZ, H, RY, CNOT, X\n",
    "\n",
    "\n",
    "# useful additional packages\n",
    "import numpy as np\n",
    "import networkx as nx\n",
    "import matplotlib.pyplot as plt"
   ]
  },
  {
   "cell_type": "markdown",
   "metadata": {
    "deletable": true,
    "editable": true
   },
   "source": [
    "### Generate a graph"
   ]
  },
  {
   "cell_type": "markdown",
   "metadata": {
    "deletable": true,
    "editable": true
   },
   "source": [
    "Un-colored graph with 4 nodes, 5 edges, 3 colors:"
   ]
  },
  {
   "cell_type": "code",
   "execution_count": 2,
   "metadata": {
    "collapsed": false,
    "deletable": true,
    "editable": true
   },
   "outputs": [
    {
     "name": "stderr",
     "output_type": "stream",
     "text": [
      "/Library/Frameworks/Python.framework/Versions/3.6/lib/python3.6/site-packages/networkx/drawing/nx_pylab.py:611: MatplotlibDeprecationWarning: isinstance(..., numbers.Number)\n",
      "  if cb.is_numlike(alpha):\n"
     ]
    },
    {
     "data": {
      "image/png": "[encoded data removed]",
      "text/plain": [
       "<Figure size 432x288 with 1 Axes>"
      ]
     },
     "metadata": {
      "needs_background": "light"
     },
     "output_type": "display_data"
    }
   ],
   "source": [
    "# generate graph, specify nodes and edges\n",
    "G = nx.Graph()\n",
    "edges = [(0, 3), (3, 6), (6, 9), (3, 9), (0, 9)]\n",
    "nodes = [0, 3, 6, 9]\n",
    "\n",
    "G.add_nodes_from(nodes)\n",
    "G.add_edges_from(edges)\n",
    "\n",
    "\n",
    "\n",
    "# Let's draw this thing\n",
    "colors = ['beige' for node in G.nodes()]\n",
    "pos = nx.spring_layout(G)\n",
    "default_axes = plt.axes(frameon=True)\n",
    "nx.draw_networkx(G, node_color=colors, node_size=600, alpha=.8, ax=default_axes, pos=pos)"
   ]
  },
  {
   "cell_type": "markdown",
   "metadata": {
    "deletable": true,
    "editable": true
   },
   "source": [
    "### Hamiltonians"
   ]
  },
  {
   "cell_type": "markdown",
   "metadata": {
    "deletable": true,
    "editable": true
   },
   "source": [
    "To use QAOA, we need to consider two Hamiltonians:\n",
    "* the Hamiltonian that best describes the cost function of our problem (cost Hamiltonian)\n",
    "* and the Hamiltonian whose eigenstates span the solution space (mixer Hamiltonian)\n",
    "\n",
    "Luckily for us, the cost Hamiltonian for graph coloring is the same as that for MaxCut:\n",
    "\n",
    "$$H_{cost} = \\sum_{i, j} \\frac{1}{2}(\\mathbb{1} - \\sigma^z_i \\sigma^z_j)$$\n",
    "\n",
    "The mixer Hamiltonian must span the solution space, i.e. only those states that make any physical sense. If we allow $k=3$ qubits per node, and accept only W-states as solutions (100, 010, 001), then we can use the following mixer Hamiltonian:\n",
    "\n",
    "$$H_{mixer} = \\sum_{v, c, c'}\\sigma^x_{v, c} \\sigma^x_{v,c'} + \\sigma^y_{v, c} \\sigma^y_{v, c'}$$"
   ]
  },
  {
   "cell_type": "markdown",
   "metadata": {
    "deletable": true,
    "editable": true
   },
   "source": [
    "Let's just create these Hamiltonians:"
   ]
  },
  {
   "cell_type": "code",
   "execution_count": 3,
   "metadata": {
    "collapsed": false,
    "deletable": true,
    "editable": true
   },
   "outputs": [
    {
     "name": "stdout",
     "output_type": "stream",
     "text": [
      "Mixer Hamiltonian: ∑ XX + YY\n",
      "(-1+0j)*X0*X1 + (-1+0j)*Y0*Y1\n",
      "(-1+0j)*X1*X2 + (-1+0j)*Y1*Y2\n",
      "(-1+0j)*X2*X0 + (-1+0j)*Y2*Y0\n",
      "(-1+0j)*X3*X4 + (-1+0j)*Y3*Y4\n",
      "(-1+0j)*X4*X5 + (-1+0j)*Y4*Y5\n",
      "(-1+0j)*X5*X3 + (-1+0j)*Y5*Y3\n",
      "(-1+0j)*X6*X7 + (-1+0j)*Y6*Y7\n",
      "(-1+0j)*X7*X8 + (-1+0j)*Y7*Y8\n",
      "(-1+0j)*X8*X6 + (-1+0j)*Y8*Y6\n",
      "(-1+0j)*X9*X10 + (-1+0j)*Y9*Y10\n",
      "(-1+0j)*X10*X11 + (-1+0j)*Y10*Y11\n",
      "(-1+0j)*X11*X9 + (-1+0j)*Y11*Y9\n",
      "\n",
      "\n",
      "Cost Hamiltonian: ∑ 1/2(I - ZZ)\n",
      "(0.5+0j)*Z0*Z3 + (-0.5+0j)*I\n",
      "(0.5+0j)*Z0*Z9 + (-0.5+0j)*I\n",
      "(0.5+0j)*Z3*Z6 + (-0.5+0j)*I\n",
      "(0.5+0j)*Z3*Z9 + (-0.5+0j)*I\n",
      "(0.5+0j)*Z6*Z9 + (-0.5+0j)*I\n",
      "(0.5+0j)*Z1*Z4 + (-0.5+0j)*I\n",
      "(0.5+0j)*Z1*Z10 + (-0.5+0j)*I\n",
      "(0.5+0j)*Z4*Z7 + (-0.5+0j)*I\n",
      "(0.5+0j)*Z4*Z10 + (-0.5+0j)*I\n",
      "(0.5+0j)*Z7*Z10 + (-0.5+0j)*I\n",
      "(0.5+0j)*Z2*Z5 + (-0.5+0j)*I\n",
      "(0.5+0j)*Z2*Z11 + (-0.5+0j)*I\n",
      "(0.5+0j)*Z5*Z8 + (-0.5+0j)*I\n",
      "(0.5+0j)*Z5*Z11 + (-0.5+0j)*I\n",
      "(0.5+0j)*Z8*Z11 + (-0.5+0j)*I\n"
     ]
    }
   ],
   "source": [
    "# define hamiltonians\n",
    "def graph_coloring_cost_ham(graph, colors):\n",
    "    cost_operators = []\n",
    "    for k in range(len(colors)):\n",
    "        for i, j in graph.edges():\n",
    "            cost_operators.append(PauliTerm(\"Z\", i + k, 0.5)*PauliTerm(\"Z\", j + k) + PauliTerm(\"I\", 0, -0.5))\n",
    "    return cost_operators\n",
    "\n",
    "def graph_coloring_mixer_ham(graph, colors):\n",
    "    mixer_operators = []\n",
    "    for k in range(0, len(graph.nodes())*len(colors), len(colors)):\n",
    "        for i, j in colors:\n",
    "            mixer_operators.append(PauliTerm(\"X\", i + k, -1.0)*PauliTerm(\"X\", j + k) + PauliTerm(\"Y\", i + k)*PauliTerm(\"Y\", j + k, -1.0))\n",
    "    return mixer_operators\n",
    "\n",
    "# above, note we've switched the sign of the Hamiltonians from those in the above equations\n",
    "# this is because we use a classical minimizer, but we are actually trying to maximize the cost function\n",
    "\n",
    "\n",
    "# instantiate mixer and cost\n",
    "k = 3 # number of colors\n",
    "colors = []\n",
    "import itertools\n",
    "for u, v in itertools.combinations(list(range(k)), 2):\n",
    "    colors.append((u, v))\n",     
    "cost = graph_coloring_cost_ham(G, colors)\n",
    "mixer = graph_coloring_mixer_ham(G, colors)\n",
    "\n",
    "\n",
    "print('Mixer Hamiltonian: ∑ XX + YY')\n",
    "for operator in mixer:\n",
    "    print(operator)\n",
    "print('\\n')\n",
    "print('Cost Hamiltonian: ∑ 1/2(I - ZZ)')\n",
    "for operator in cost:\n",
    "    print(operator)"
   ]
  },
  {
   "cell_type": "markdown",
   "metadata": {
    "deletable": true,
    "editable": true
   },
   "source": [
    "### Initial state"
   ]
  },
  {
   "cell_type": "markdown",
   "metadata": {
    "deletable": true,
    "editable": true
   },
   "source": [
    "We must feed an inital reference state to QAOA that we will evolve to the ground state of the cost Hamiltonian. This initial state should ideally span the solution space, i.e. all physically relevant states. For our purposes, these would be the W-States.\n",
    "\n",
    "First let's make functions that can create W-States:"
   ]
  },
  {
   "cell_type": "code",
   "execution_count": 4,
   "metadata": {
    "collapsed": false,
    "deletable": true,
    "editable": true
   },
   "outputs": [],
   "source": [
    "# Define a F_gate\n",
    "\n",
    "def F_gate(prog, i, j, n, k):\n",
    "    theta = np.arccos(np.sqrt(1/(n-k+1)))\n",
    "    prog += [RY(-theta, j),\n",
    "             CZ(i, j),\n",
    "             RY(theta, j)]\n",
    "    \n",
    "# Generate W-states    \n",
    "def wstategenerate(prog, q0, q1, q2):\n",
    "    prog += X(q2)\n",
    "    F_gate(prog, q2, q1, 3, 1)\n",
    "    F_gate(prog, q1, q0, 3, 2)\n",
    "    prog += CNOT(q1, q2)\n",
    "    prog += CNOT(q0, q1)\n",
    "    return prog\n"
   ]
  },
  {
   "cell_type": "markdown",
   "metadata": {
    "deletable": true,
    "editable": true
   },
   "source": [
    "Now let's initialize W-states to feed our QAOA for the above graph:"
   ]
  },
  {
   "cell_type": "code",
   "execution_count": 5,
   "metadata": {
    "collapsed": true,
    "deletable": true,
    "editable": true
   },
   "outputs": [],
   "source": [
    "# initialize state\n",
    "initial_state = wstategenerate(Program(), 0, 1, 2) + wstategenerate(Program(), 3, 4, 5) + wstategenerate(Program(), 6, 7, 8) + wstategenerate(Program(), 9, 10, 11)"
   ]
  },
  {
   "cell_type": "markdown",
   "metadata": {
    "deletable": true,
    "editable": true
   },
   "source": [
    "Quick test to make sure we are actually making W-states..."
   ]
  },
  {
   "cell_type": "code",
   "execution_count": 6,
   "metadata": {
    "collapsed": false,
    "deletable": true,
    "editable": true
   },
   "outputs": [
    {
     "name": "stderr",
     "output_type": "stream",
     "text": [
      "/Library/Frameworks/Python.framework/Versions/3.6/lib/python3.6/site-packages/marshmallow/schema.py:364: ChangedInMarshmallow3Warning: strict=False is not recommended. In marshmallow 3.0, schemas will always be strict. See https://marshmallow.readthedocs.io/en/latest/upgrading.html#schemas-are-always-strict\n",
      "  ChangedInMarshmallow3Warning\n"
     ]
    },
    {
     "data": {
      "image/png": "[encoded data removed]",
      "text/plain": [
       "<Figure size 504x360 with 1 Axes>"
      ]
     },
     "execution_count": 6,
     "metadata": {},
     "output_type": "execute_result"
    }
   ],
   "source": [
    "# qvm instantiation to run W-state generation\n",
    "qvm_connection = QVMConnection()\n",
    "\n",
    "# makes it easier to count up results\n",
    "from collections import Counter\n",
    "\n",
    "# get results with their counts\n",
    "tests = qvm_connection.run_and_measure(initial_state, [9, 10, 11], trials=1000)\n",
    "tests = [tuple(test) for test in tests]\n",
    "tests_counter_tuples = Counter(tests)\n",
    "most_common = tests_counter_tuples.most_common()\n",
    "\n",
    "tests_counter = {}\n",
    "\n",
    "for element in most_common:\n",
    "    result = element[0]\n",
    "    total = element[1]\n",
    "    result_string = ''\n",
    "    for bit in result:\n",
    "        result_string += str(bit)\n",
    "    tests_counter[result_string] = total\n",
    "\n",
    "tests_counter\n",
    "\n",
    "# import for histogram plotting\n",
    "from qiskit.tools.visualization import plot_histogram\n",
    "\n",
    "# plot the results with their counts\n",
    "plot_histogram(tests_counter)"
   ]
  },
  {
   "cell_type": "markdown",
   "metadata": {},
   "source": [
    "We only see the results 001, 010, and 100, so we're good!"
   ]
  },
  {
   "cell_type": "markdown",
   "metadata": {
    "deletable": true,
    "editable": true
   },
   "source": [
    "### Use QAOA with specified parameters"
   ]
  },
  {
   "cell_type": "markdown",
   "metadata": {
    "deletable": true,
    "editable": true
   },
   "source": [
    "Now let's instantiate QAOA with the specified cost, mixer, and number of steps:"
   ]
  },
  {
   "cell_type": "code",
   "execution_count": 7,
   "metadata": {
    "collapsed": false,
    "deletable": true,
    "editable": true
   },
   "outputs": [],
   "source": [
    "# number of Trotterized steps for QAOA (I recommend two)\n",
    "p = 2\n",
    "\n",
    "\n",
    "# set initial beta and gamma angle values (you could try others, I find these work well)\n",
    "initial_beta = [0, np.pi]\n",
    "initial_gamma = [0, np.pi*2]\n",
    "\n",
    "\n",
    "# arguments for the classical optimizer\n",
    "minimizer_kwargs = {'method': 'Nelder-Mead',\n",
    "                            'options': {'ftol': 1.0e-2, 'xtol': 1.0e-2,\n",
    "                                        'disp': False}}\n",
    "\n",
    "\n",
    "# list of qubit ids on instantiated qvm we'll be using\n",
    "num_qubits = len(colors)*len(G.nodes())\n",
    "qubit_ids = list(range(num_qubits))\n",
    "\n",
    "\n",
    "# instantiation of QAOA with requisite parameters\n",
    "QAOA_inst = QAOA(qvm_connection, qubit_ids, \n",
    "                     steps=p, \n",
    "                     cost_ham=cost,\n",
    "                     ref_ham=mixer, \n",
    "                     driver_ref=initial_state,\n",
    "                     init_betas=initial_beta,\n",
    "                     init_gammas=initial_gamma,\n",
    "                     minimizer_kwargs=minimizer_kwargs)"
   ]
  },
  {
   "cell_type": "markdown",
   "metadata": {
    "deletable": true,
    "editable": true
   },
   "source": [
    "Solve for betas and gammas. All of the optimization happens here:"
   ]
  },
  {
   "cell_type": "code",
   "execution_count": 8,
   "metadata": {
    "collapsed": false,
    "deletable": true,
    "editable": true
   },
   "outputs": [
    {
     "name": "stdout",
     "output_type": "stream",
     "text": [
      "WARNING: Fast method for expectation will be used. Noise\n",
      "                     models will be ineffective\n",
      "Values of betas: [-3.92793078e-04  3.25023485e+00]\n",
      "Values of gammas: [-1.35018800e-04  6.65965129e+00]\n",
      "And the most common measurement is... \n",
      "(0, 0, 1, 1, 0, 0, 0, 1, 0, 0, 1, 0)\n"
     ]
    }
   ],
   "source": [
    "betas, gammas = QAOA_inst.get_angles()\n",
    "print(\"Values of betas:\", betas)\n",
    "print(\"Values of gammas:\", gammas)\n",
    "print(\"And the most common measurement is... \")\n",
    "most_common_result, _ = QAOA_inst.get_string(betas, gammas)\n",
    "print(most_common_result)"
   ]
  },
  {
   "cell_type": "markdown",
   "metadata": {},
   "source": [
    "### Reconstruct Program"
   ]
  },
  {
   "cell_type": "markdown",
   "metadata": {},
   "source": [
    "Now that we've used QAOA to solve for the optimal beta and gamma values, we can reconstruct the ground state solution by initializing a new `Program()` object with these values"
   ]
  },
  {
   "cell_type": "code",
   "execution_count": 9,
   "metadata": {
    "collapsed": false,
    "deletable": true,
    "editable": true
   },
   "outputs": [],
   "source": [
    "angles = np.hstack((betas, gammas))\n",
    "# We take a template for quil program\n",
    "param_prog = QAOA_inst.get_parameterized_program()\n",
    "# We initialize this program with the angles we have found\n",
    "prog = param_prog(angles)"
   ]
  },
  {
   "cell_type": "markdown",
   "metadata": {},
   "source": [
    "### Run and Measure Program"
   ]
  },
  {
   "cell_type": "markdown",
   "metadata": {},
   "source": [
    "Now that we've reconstructed the program with the proper angles, we can run and measure this program on the QVM many times to get statistics on the outcome "
   ]
  },
  {
   "cell_type": "code",
   "execution_count": 10,
   "metadata": {
    "collapsed": false,
    "deletable": true,
    "editable": true
   },
   "outputs": [],
   "source": [
    "# Here we connect to the Forest API and run our program there.\n",
    "# We do that 10000 times and after each one we measure the output.\n",
    "measurements = qvm_connection.run_and_measure(prog, qubit_ids, trials=10000)"
   ]
  },
  {
   "cell_type": "markdown",
   "metadata": {},
   "source": [
    "Just reformatting results into a dictionary..."
   ]
  },
  {
   "cell_type": "code",
   "execution_count": 11,
   "metadata": {
    "collapsed": false,
    "deletable": true,
    "editable": true
   },
   "outputs": [
    {
     "data": {
      "text/plain": [
       "{'010001010100': 578,\n",
       " '010100010001': 543,\n",
       " '001010001100': 529,\n",
       " '100010100001': 488,\n",
       " '100001100010': 488,\n",
       " '001100001010': 478,\n",
       " '001010100010': 244,\n",
       " '010010100001': 236,\n",
       " '001100010010': 234,\n",
       " '100010010001': 232,\n",
       " '010010001100': 224,\n",
       " '001010010100': 224,\n",
       " '100010001010': 224,\n",
       " '100001010010': 216,\n",
       " '010001100010': 216,\n",
       " '100001010100': 203,\n",
       " '010100001010': 188,\n",
       " '010100001100': 183,\n",
       " '100100010001': 177,\n",
       " '010001100100': 176,\n",
       " '010100100001': 172,\n",
       " '100100001010': 170,\n",
       " '001010100100': 164,\n",
       " '010001001100': 163,\n",
       " '010001100001': 160,\n",
       " '100001010001': 160,\n",
       " '001100010100': 159,\n",
       " '001100100010': 159,\n",
       " '100010001100': 158,\n",
       " '001001100010': 148,\n",
       " '100010100010': 140,\n",
       " '100010001001': 137,\n",
       " '010100001001': 136,\n",
       " '001001010100': 133,\n",
       " '001010001010': 133,\n",
       " '001100010001': 132,\n",
       " '100001001010': 129,\n",
       " '001010100001': 127,\n",
       " '010100010100': 108,\n",
       " '100001100001': 78,\n",
       " '001100001100': 74,\n",
       " '010001010001': 74,\n",
       " '010100100010': 63,\n",
       " '100010010100': 49,\n",
       " '010010010010': 44,\n",
       " '100100010010': 42,\n",
       " '010010100100': 42,\n",
       " '010001001010': 41,\n",
       " '100100100100': 41,\n",
       " '001001001001': 37,\n",
       " '010100010010': 35,\n",
       " '010010010100': 32,\n",
       " '010010001001': 31,\n",
       " '001001100100': 31,\n",
       " '001010010001': 30,\n",
       " '100001001100': 29,\n",
       " '001001010010': 27,\n",
       " '001001010001': 26,\n",
       " '001100100001': 24,\n",
       " '100100001001': 24,\n",
       " '100001001001': 23,\n",
       " '010001001001': 23,\n",
       " '100100010100': 23,\n",
       " '100100001100': 19,\n",
       " '001001100001': 19,\n",
       " '100100100010': 18,\n",
       " '010010010001': 15,\n",
       " '001100100100': 15,\n",
       " '010001010010': 15,\n",
       " '100010100100': 13,\n",
       " '001010010010': 12,\n",
       " '010100100100': 12,\n",
       " '100010010010': 9,\n",
       " '001100001001': 9,\n",
       " '010010001010': 8,\n",
       " '010010100010': 7,\n",
       " '001001001100': 4,\n",
       " '100100100001': 4,\n",
       " '001001001010': 3,\n",
       " '001010001001': 3,\n",
       " '100001100100': 3}"
      ]
     },
     "execution_count": 11,
     "metadata": {},
     "output_type": "execute_result"
    }
   ],
   "source": [
    "# This is just a hack - we can't use Counter on a list of lists but we can on a list of tuples.\n",
    "measurements = [tuple(measurement) for measurement in measurements]\n",
    "measurements_counter = Counter(measurements)\n",
    "# This line gives us the results in the diminishing order\n",
    "most_common = measurements_counter.most_common()\n",
    "most_common\n",
    "\n",
    "measurements_counter = {}\n",
    "\n",
    "for element in most_common:\n",
    "    result = element[0]\n",
    "    total = element[1]\n",
    "    result_string = ''\n",
    "    for bit in result:\n",
    "        result_string += str(bit)\n",
    "    measurements_counter[result_string] = total\n",
    "\n",
    "measurements_counter"
   ]
  },
  {
   "cell_type": "markdown",
   "metadata": {},
   "source": [
    "And now reformat bit strings into colors..."
   ]
  },
  {
   "cell_type": "code",
   "execution_count": 12,
   "metadata": {
    "collapsed": false,
    "deletable": true,
    "editable": true
   },
   "outputs": [
    {
     "name": "stdout",
     "output_type": "stream",
     "text": [
      "{'bgbr': 578, 'brbg': 543, 'gbgr': 529, 'rbrg': 488, 'rgrb': 488, 'grgb': 478, 'gbrb': 244, 'bbrg': 236, 'grbb': 234, 'rbbg': 232, 'bbgr': 224, 'gbbr': 224, 'rbgb': 224, 'rgbb': 216, 'bgrb': 216, 'rgbr': 203, 'brgb': 188, 'brgr': 183, 'rrbg': 177, 'bgrr': 176, 'brrg': 172, 'rrgb': 170, 'gbrr': 164, 'bggr': 163, 'bgrg': 160, 'rgbg': 160, 'grbr': 159, 'grrb': 159, 'rbgr': 158, 'ggrb': 148, 'rbrb': 140, 'rbgg': 137, 'brgg': 136, 'ggbr': 133, 'gbgb': 133, 'grbg': 132, 'rggb': 129, 'gbrg': 127, 'brbr': 108, 'rgrg': 78, 'grgr': 74, 'bgbg': 74, 'brrb': 63, 'rbbr': 49, 'bbbb': 44, 'rrbb': 42, 'bbrr': 42, 'bggb': 41, 'rrrr': 41, 'gggg': 37, 'brbb': 35, 'bbbr': 32, 'bbgg': 31, 'ggrr': 31, 'gbbg': 30, 'rggr': 29, 'ggbb': 27, 'ggbg': 26, 'grrg': 24, 'rrgg': 24, 'rggg': 23, 'bggg': 23, 'rrbr': 23, 'rrgr': 19, 'ggrg': 19, 'rrrb': 18, 'bbbg': 15, 'grrr': 15, 'bgbb': 15, 'rbrr': 13, 'gbbb': 12, 'brrr': 12, 'rbbb': 9, 'grgg': 9, 'bbgb': 8, 'bbrb': 7, 'gggr': 4, 'rrrg': 4, 'gggb': 3, 'gbgg': 3, 'rgrr': 3}\n"
     ]
    }
   ],
   "source": [
    "# Reformat these bit strings into colors\n",
    "# Choose which state refers to red ('r'), blue ('b') or green ('g')\n",
    "\n",
    "colors_totals = {}\n",
    "for bitstring, total in measurements_counter.items():\n",
    "    node_0 = bitstring[0:3]\n",
    "    node_1 = bitstring[3:6]\n",
    "    node_2 = bitstring[6:9]\n",
    "    node_3 = bitstring[9:12]\n",
    "    \n",
    "    nodes_list = [node_0, node_1, node_2, node_3]\n",
    "    node_colors_string = ''\n",
    "    for node in nodes_list:\n",
    "        if node == '100':\n",
    "            node = 'r'\n",
    "        elif node == '010':\n",
    "            node = 'b'\n",
    "        elif node == '001':\n",
    "            node = 'g'\n",
    "        else:\n",
    "            raise Exception('Invalid!')\n",
    "            \n",
    "        node_colors_string += node\n",
    "    \n",
    "    colors_totals[node_colors_string] = total\n",
    "        \n",
    "            \n",
    "print(colors_totals)   "
   ]
  },
  {
   "cell_type": "markdown",
   "metadata": {},
   "source": [
    "### Visualize results"
   ]
  },
  {
   "cell_type": "markdown",
   "metadata": {},
   "source": [
    "First let's plot the results as a histogram. There are tons of possible solutions ($k^n = 3^4 = 81$), but we should expect that 6 of them occur most often, so we're looking for 6 larger peaks. This is because for this particular graph and number of colors, there are 6 colorings that maximize the cost function."
   ]
  },
  {
   "cell_type": "code",
   "execution_count": 13,
   "metadata": {
    "collapsed": false,
    "deletable": true,
    "editable": true
   },
   "outputs": [
    {
     "data": {
      "image/png": "[encoded data removed]",
      "text/plain": [
       "<Figure size 1800x1080 with 1 Axes>"
      ]
     },
     "execution_count": 13,
     "metadata": {},
     "output_type": "execute_result"
    }
   ],
   "source": [
    "plot_histogram(colors_totals, figsize=(25, 15))"
   ]
  },
  {
   "cell_type": "markdown",
   "metadata": {},
   "source": [
    "Finally, let's color the graph using these solutions. The colors and their totals have already been ordered from most results to least, so we should expect that the first 6 (i.e. 0-5) colorings maximize the number of non-adjacent colors on the graph"
   ]
  },
  {
   "cell_type": "code",
   "execution_count": 14,
   "metadata": {
    "collapsed": false,
    "deletable": true,
    "editable": true
   },
   "outputs": [
    {
     "name": "stderr",
     "output_type": "stream",
     "text": [
      "/Library/Frameworks/Python.framework/Versions/3.6/lib/python3.6/site-packages/networkx/drawing/nx_pylab.py:611: MatplotlibDeprecationWarning: isinstance(..., numbers.Number)\n",
      "  if cb.is_numlike(alpha):\n"
     ]
    },
    {
     "data": {
      "image/png": "[encoded data removed]",
      "text/plain": [
       "<Figure size 432x288 with 1 Axes>"
      ]
     },
     "metadata": {
      "needs_background": "light"
     },
     "output_type": "display_data"
    }
   ],
   "source": [
    "# make graph\n",
    "Graph = nx.Graph()\n",
    "edges = [(0, 1), (1, 2), (2, 3), (3, 0), (1, 3)]\n",
    "nodes = range(4)\n",
    "\n",
    "Graph.add_nodes_from(nodes)\n",
    "Graph.add_edges_from(edges)\n",
    "\n",
    "# Let's draw this thing\n",
    "\n",
    "\n",
    "\n",
    "\n",
    "# can increment the index at the end to get the max value and the next max totals\n",
    "# i.e. try [0], [1], ... , [5]\n",
    "colors = list(colors_totals.keys())[0]\n",
    "\n",
    "\n",
    "\n",
    "# draw colored graph\n",
    "pos = nx.spring_layout(Graph)\n",
    "default_axes = plt.axes(frameon=True)\n",
    "nx.draw_networkx(Graph, node_color=colors, node_size=600, alpha=.8, ax=default_axes, pos=pos)"
   ]
  },
  {
   "cell_type": "markdown",
   "metadata": {
    "deletable": true,
    "editable": true
   },
   "source": [
    "<br>"
   ]
  }
 ],
 "metadata": {
  "kernelspec": {
   "display_name": "Python 3",
   "language": "python",
   "name": "python3"
  },
  "language_info": {
   "codemirror_mode": {
    "name": "ipython",
    "version": 3
   },
   "file_extension": ".py",
   "mimetype": "text/x-python",
   "name": "python",
   "nbconvert_exporter": "python",
   "pygments_lexer": "ipython3",
   "version": "3.6.1"
  }
 },
 "nbformat": 4,
 "nbformat_minor": 2
}
